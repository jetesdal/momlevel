{
 "cells": [
  {
   "cell_type": "markdown",
   "id": "497fd238-6665-432c-87b3-92b5a7f0b928",
   "metadata": {},
   "source": [
    "# Example: Working with SPEAR Forecast Data"
   ]
  },
  {
   "cell_type": "markdown",
   "id": "57d1da9d-56a7-40c6-a1a8-6431a8722f02",
   "metadata": {},
   "source": [
    "The real-time SPEAR forecast data are delivered as one file per varaible, per ensemble member. This notebook illustrates how to concatenate the individual files into a single dataset with an `ensemble` dimension. Extracting data at individual tige gauge locations is also demonstrated."
   ]
  },
  {
   "cell_type": "code",
   "execution_count": 1,
   "id": "f978dbc5-8dda-4562-a78d-9fc11d30f793",
   "metadata": {},
   "outputs": [],
   "source": [
    "import itertools\n",
    "import numpy as np\n",
    "import xarray as xr\n",
    "import momlevel\n",
    "from pathlib import Path"
   ]
  },
  {
   "cell_type": "markdown",
   "id": "640fffd7-249a-46c0-bf6e-00ebe4dff4c6",
   "metadata": {},
   "source": [
    "## Forecast and Data Parameters"
   ]
  },
  {
   "cell_type": "code",
   "execution_count": 2,
   "id": "acf1ad84-3e0c-4afd-9313-4627ad9d916f",
   "metadata": {},
   "outputs": [],
   "source": [
    "# Forecast parameters\n",
    "rootdir = Path(\"/net2/jpk/NMME_sealevel/september_retrospective_SPEAR_MED\")\n",
    "date = \"20220901\"\n",
    "\n",
    "# Ocean static file (contains grid information)\n",
    "static = rootdir / \"ocean.static.nc\"\n",
    "\n",
    "# Output directory (default is `rootdir`)\n",
    "outdir = rootdir"
   ]
  },
  {
   "cell_type": "code",
   "execution_count": 3,
   "id": "91c3bf32-35fe-4201-b7b8-7bbbdbe764f6",
   "metadata": {},
   "outputs": [],
   "source": [
    "# List of ensemble members (currently n=30)\n",
    "enslist = list(range(1, 31))\n",
    "\n",
    "# List of sea level fields\n",
    "varlist = [\"hfds\", \"net_heat_surface\", \"PRCmE\", \"slp\", \"ssh\", \"SST\", \"taux\", \"tauy\"]"
   ]
  },
  {
   "cell_type": "code",
   "execution_count": 4,
   "id": "3fbb18ae-0396-4181-83ea-6b7611f3df66",
   "metadata": {},
   "outputs": [],
   "source": [
    "# Construct a dictionary of all expected files\n",
    "\n",
    "filedict = {\n",
    "    var: [rootdir / f\"{date}.{var}_ens{str(ens).zfill(2)}.nc\" for ens in enslist]\n",
    "    for var in varlist\n",
    "}"
   ]
  },
  {
   "cell_type": "markdown",
   "id": "bc94b947-7de8-4aba-aa92-d3035503d55a",
   "metadata": {},
   "source": [
    "## Confirm Expected Data Exists"
   ]
  },
  {
   "cell_type": "code",
   "execution_count": 5,
   "id": "a059f7da-7c68-43e7-8260-8b9ac58613ce",
   "metadata": {},
   "outputs": [],
   "source": [
    "# Master list of all files\n",
    "allfiles = list(itertools.chain(*filedict.values()))\n",
    "allfiles.append(static)"
   ]
  },
  {
   "cell_type": "code",
   "execution_count": 6,
   "id": "47b8d149-fd10-496b-ab58-e986adc2b12a",
   "metadata": {},
   "outputs": [],
   "source": [
    "# Determine status of each file\n",
    "status = [x.exists() for x in allfiles]"
   ]
  },
  {
   "cell_type": "code",
   "execution_count": 7,
   "id": "c6d781d3-d8e9-4094-bb21-63392ff036c5",
   "metadata": {},
   "outputs": [],
   "source": [
    "# Report back the status of any missing files\n",
    "\n",
    "try:\n",
    "    assert all(x is True for x in status)\n",
    "\n",
    "except AssertionError as exc:\n",
    "    missing = [\n",
    "        filename for exists, filename in zip(status, allfiles) if exists is False\n",
    "    ]\n",
    "    raise FileNotFoundError(f\"Unable to locate file(s): {missing}\")"
   ]
  },
  {
   "cell_type": "markdown",
   "id": "bd5d10d6-accb-444c-8f9a-f3c780b2494a",
   "metadata": {},
   "source": [
    "## Combine Into Single Gridded Dataset"
   ]
  },
  {
   "cell_type": "code",
   "execution_count": 8,
   "id": "61287291-3dfb-416c-8ce5-9e9f9d9562ec",
   "metadata": {},
   "outputs": [],
   "source": [
    "# Generate an xarray dataset for each variable with a new `ensemble` dimension\n",
    "\n",
    "filedict = {\n",
    "    k: xr.open_mfdataset(v, combine=\"nested\", concat_dim=\"ensemble\", use_cftime=True)\n",
    "    for k, v in filedict.items()\n",
    "}"
   ]
  },
  {
   "cell_type": "code",
   "execution_count": 9,
   "id": "43b005a8-cbed-4440-ae2f-c77c44702eb5",
   "metadata": {},
   "outputs": [],
   "source": [
    "# Merge datasets for individual fields\n",
    "dset = xr.merge(list(filedict.values()), compat=\"override\")"
   ]
  },
  {
   "cell_type": "code",
   "execution_count": 10,
   "id": "f1ae57ad-9baa-4119-aaf4-b6d488ebf4c2",
   "metadata": {},
   "outputs": [],
   "source": [
    "# Merge static data\n",
    "static = xr.open_dataset(rootdir / \"ocean.static.nc\", decode_times=False)\n",
    "dset = xr.merge([dset, static], compat=\"override\")"
   ]
  },
  {
   "cell_type": "code",
   "execution_count": 11,
   "id": "7b80d852-2842-484a-9422-349c9c3f500e",
   "metadata": {},
   "outputs": [],
   "source": [
    "# Ensure that `time` is the first dimension\n",
    "dset = dset.transpose(\"time\", ...)"
   ]
  },
  {
   "cell_type": "code",
   "execution_count": 12,
   "id": "49d9c063-3039-474f-a434-e0df2d79aa64",
   "metadata": {},
   "outputs": [],
   "source": [
    "# Write out gridded file\n",
    "dset.to_netcdf(outdir / f\"SPEAR_sealevel_forecast_{date}.gridded.nc\")"
   ]
  },
  {
   "cell_type": "markdown",
   "id": "f2c24231-7200-452e-8c77-c153be955ce6",
   "metadata": {},
   "source": [
    "## Extract Tide Gauge Time Series"
   ]
  },
  {
   "cell_type": "code",
   "execution_count": 13,
   "id": "0c34f607-4810-42a5-9f78-87d4fa094e50",
   "metadata": {},
   "outputs": [
    {
     "name": "stdout",
     "output_type": "stream",
     "text": [
      "Nominal resolution: 55.08805078125 km\n"
     ]
    }
   ],
   "source": [
    "# Nominal resolution, coverted to km\n",
    "print(f\"Nominal resolution: {float((dset.dyt.mean()/1000.))} km\")"
   ]
  },
  {
   "cell_type": "code",
   "execution_count": 14,
   "id": "7db7d21d-fba6-475e-a7c0-3519bdf50325",
   "metadata": {},
   "outputs": [],
   "source": [
    "# Consider ocean points that lie within a 55-km radius (~34 miles) \n",
    "# of the real world tide gauge location\n",
    "\n",
    "ds_tg = momlevel.extract_tidegauge(\n",
    "    dset.ssh, dset.geolon, dset.geolat, mask=dset.wet, threshold=55.0\n",
    ")"
   ]
  },
  {
   "cell_type": "code",
   "execution_count": 15,
   "id": "8171a37b-472b-4533-8062-caea01d4f686",
   "metadata": {},
   "outputs": [],
   "source": [
    "# Write out tide gauge file\n",
    "ds_tg.to_netcdf(outdir/f\"SPEAR_sealevel_forecast_{date}.tidegauge.nc\")"
   ]
  }
 ],
 "metadata": {
  "kernelspec": {
   "display_name": "Python 3 (ipykernel)",
   "language": "python",
   "name": "python3"
  },
  "language_info": {
   "codemirror_mode": {
    "name": "ipython",
    "version": 3
   },
   "file_extension": ".py",
   "mimetype": "text/x-python",
   "name": "python",
   "nbconvert_exporter": "python",
   "pygments_lexer": "ipython3",
   "version": "3.9.13"
  }
 },
 "nbformat": 4,
 "nbformat_minor": 5
}
